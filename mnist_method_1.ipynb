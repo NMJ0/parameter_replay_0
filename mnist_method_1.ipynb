{
 "cells": [
  {
   "cell_type": "code",
   "execution_count": 1,
   "id": "b2ae0787",
   "metadata": {},
   "outputs": [
    {
     "name": "stderr",
     "output_type": "stream",
     "text": [
      "/opt/miniconda3/lib/python3.13/site-packages/tqdm/auto.py:21: TqdmWarning: IProgress not found. Please update jupyter and ipywidgets. See https://ipywidgets.readthedocs.io/en/stable/user_install.html\n",
      "  from .autonotebook import tqdm as notebook_tqdm\n"
     ]
    }
   ],
   "source": [
    "from model import network_mnist,naive_train,test_taskwise,test,benchmark,train_stream,test_stream,compute_fisher_information,apply_importance_mask,create_masked_weight_dict,load_non_zero_weights\n",
    "from torch.utils.data import DataLoader, Subset\n",
    "import torch\n",
    "import torch.nn as nn\n",
    "import torch.optim as optim\n",
    "import matplotlib.pyplot as plt\n",
    "from plot import plot_parameter_importance\n",
    "import os\n",
    "import copy "
   ]
  },
  {
   "cell_type": "code",
   "execution_count": 10,
   "id": "c0c71226",
   "metadata": {},
   "outputs": [],
   "source": [
    "model=network_mnist(256,128)\n",
    "model_2=network_mnist(256,128)\n",
    "#print(model)\n",
    "device = torch.device(\"cuda\" if torch.cuda.is_available() else \"cpu\")\n",
    "model.to(device)\n",
    "model_2.to(device)\n",
    "criterion = nn.CrossEntropyLoss()\n",
    "optimizer = optim.Adam(model.parameters(), lr=0.001)\n",
    "epochs=5"
   ]
  },
  {
   "cell_type": "code",
   "execution_count": null,
   "id": "aaafaad7",
   "metadata": {},
   "outputs": [],
   "source": [
    "def method_1_train(model,task_number, epochs,criterion,optimizer,device,weight_dicts):\n",
    "    experience = train_stream[task_number]\n",
    "    train_loader = DataLoader(experience.dataset, batch_size=64, shuffle=True)\n",
    "\n",
    "    model.train()\n",
    "    for epoch in range(epochs):\n",
    "        total_loss = 0\n",
    "        \n",
    "        for images, labels, *_ in train_loader:\n",
    "            images, labels = images.to(device), labels.to(device)\n",
    "\n",
    "            optimizer.zero_grad()\n",
    "            outputs = model(images)\n",
    "            loss = criterion(outputs, labels)\n",
    "            loss.backward()\n",
    "            optimizer.step()\n",
    "            total_loss += loss.item()\n",
    "       \n",
    "\n",
    "        #print(f\"Task {task_number}, Epoch {epoch+1}, Loss: {total_loss/len(train_loader):.4f}\")"
   ]
  },
  {
   "cell_type": "code",
   "execution_count": 17,
   "id": "b7e69e0b",
   "metadata": {},
   "outputs": [
    {
     "name": "stdout",
     "output_type": "stream",
     "text": [
      "\n",
      "======================================================================\n",
      "Training on Task 0\n",
      "======================================================================\n",
      "Accuracy on task 0: 99.95%\n",
      "Post-training accuracy on Task 0: 99.95%\n",
      "Accuracy on task 0: 99.95%\n",
      "Accuracy on task 0: 99.95%\n",
      "Accuracy on task 1: 0.05%\n",
      "Accuracy on task 2: 0.00%\n",
      "Accuracy on task 3: 0.00%\n",
      "Accuracy on task 4: 0.00%\n",
      "Average Accuracy: 20.00%\n",
      "\n",
      "======================================================================\n",
      "Training on Task 1\n",
      "======================================================================\n",
      "Accuracy on task 0: 99.95%\n",
      "Accuracy on task 1: 0.05%\n",
      "Accuracy on task 2: 0.00%\n",
      "Accuracy on task 3: 0.00%\n",
      "Accuracy on task 4: 0.00%\n",
      "Average Accuracy: 20.00%\n",
      "Accuracy on task 0: 99.95%\n",
      "Accuracy on task 1: 0.05%\n",
      "Accuracy on task 2: 0.00%\n",
      "Accuracy on task 3: 0.00%\n",
      "Accuracy on task 4: 0.00%\n",
      "Average Accuracy: 20.00%\n",
      "Accuracy on task 0: 99.95%\n",
      "Accuracy on task 1: 0.05%\n",
      "Accuracy on task 2: 0.00%\n",
      "Accuracy on task 3: 0.00%\n",
      "Accuracy on task 4: 0.00%\n",
      "Average Accuracy: 20.00%\n",
      "Accuracy on task 0: 99.95%\n",
      "Accuracy on task 1: 0.05%\n",
      "Accuracy on task 2: 0.00%\n",
      "Accuracy on task 3: 0.00%\n",
      "Accuracy on task 4: 0.00%\n",
      "Average Accuracy: 20.00%\n",
      "Accuracy on task 1: 99.36%\n",
      "Post-training accuracy on Task 1: 99.36%\n",
      "Accuracy on task 1: 99.36%\n",
      "Accuracy on task 0: 0.85%\n",
      "Accuracy on task 1: 99.36%\n",
      "Accuracy on task 2: 0.00%\n",
      "Accuracy on task 3: 0.00%\n",
      "Accuracy on task 4: 0.00%\n",
      "Average Accuracy: 20.04%\n"
     ]
    }
   ],
   "source": [
    "os.makedirs('figures', exist_ok=True)\n",
    "all_tasks_data = {}\n",
    "weight_dicts=[]\n",
    "for task in range(2):\n",
    "    print(f\"\\n{'='*70}\")\n",
    "    print(f\"Training on Task {task}\")\n",
    "    print(f\"{'='*70}\")\n",
    "\n",
    "    method_1_train(model, task, epochs, criterion=criterion, optimizer=optimizer, device=device, weight_dicts=weight_dicts)\n",
    "    acc = test_taskwise(model, task, device)\n",
    "    print(f\"Post-training accuracy on Task {task}: {acc:.2f}%\")\n",
    "\n",
    "    fisher_dict = compute_fisher_information(model, task_number=task, num_samples=500, \n",
    "                                             criterion=criterion, device=device)\n",
    "    percent_list = list(range(50,51))\n",
    "    accuracy_vs_percent = []\n",
    "    \n",
    "\n",
    "    original_weights = {name: param.clone() for name, param in model.state_dict().items()}\n",
    "    for p in percent_list:\n",
    "        model, mask_dict = apply_importance_mask(model, fisher_dict, importance_percent=p)\n",
    "        weight_dicts.append(create_masked_weight_dict(model, mask_dict))\n",
    "        acc_p = test_taskwise(model, task, device)\n",
    "        accuracy_vs_percent.append(acc_p)\n",
    "        model.load_state_dict(original_weights, strict=False)\n",
    "       \n",
    "    all_tasks_data[task] = (percent_list, accuracy_vs_percent)\n",
    "    test(model, device)\n",
    "    #plot_parameter_importance(percent_list, accuracy_vs_percent, task, save_path=f'figures/task_{task}_importance.png')\n"
   ]
  },
  {
   "cell_type": "code",
   "execution_count": null,
   "id": "358e8ff1",
   "metadata": {},
   "outputs": [],
   "source": [
    "for i in range(5):\n",
    "    print(f\"\\n{'='*70}\")\n",
    "    print(f\"Evaluating Model on Task {i} after applying masks from all tasks\")\n",
    "    print(f\"{'='*70}\")\n",
    "   \n",
    "    print(f\"\\n-- Using mask from Task {i} --\")\n",
    "    model_2=copy.deepcopy(model)\n",
    "    masked_model = load_non_zero_weights(model_2, weight_dicts[i])\n",
    "    acc = test_taskwise(masked_model, i, device)\n",
    "    print(f\"Accuracy on Task {i} with mask from Task {i}: {acc:.2f}%\")\n",
    "    masked_model.load_state_dict(weight_dicts[i], strict=False)\n",
    "    acc = test_taskwise(masked_model, i, device)\n",
    "    print(f\"Accuracy on Task {i} with mask from Task {i} (direct load): {acc:.2f}%\")"
   ]
  }
 ],
 "metadata": {
  "kernelspec": {
   "display_name": "base",
   "language": "python",
   "name": "python3"
  },
  "language_info": {
   "codemirror_mode": {
    "name": "ipython",
    "version": 3
   },
   "file_extension": ".py",
   "mimetype": "text/x-python",
   "name": "python",
   "nbconvert_exporter": "python",
   "pygments_lexer": "ipython3",
   "version": "3.13.0"
  }
 },
 "nbformat": 4,
 "nbformat_minor": 5
}
