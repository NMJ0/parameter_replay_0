{
 "cells": [
  {
   "cell_type": "code",
   "execution_count": 2,
   "id": "07cac14f",
   "metadata": {},
   "outputs": [
    {
     "name": "stderr",
     "output_type": "stream",
     "text": [
      "/opt/miniconda3/lib/python3.13/site-packages/tqdm/auto.py:21: TqdmWarning: IProgress not found. Please update jupyter and ipywidgets. See https://ipywidgets.readthedocs.io/en/stable/user_install.html\n",
      "  from .autonotebook import tqdm as notebook_tqdm\n"
     ]
    }
   ],
   "source": [
    "from model import network_mnist,naive_train,test_taskwise,test,benchmark,train_stream,test_stream\n",
    "from torch.utils.data import DataLoader, Subset\n",
    "import torch\n",
    "import torch.nn as nn\n",
    "import torch.optim as optim\n"
   ]
  },
  {
   "cell_type": "code",
   "execution_count": 3,
   "id": "4486f5f4",
   "metadata": {},
   "outputs": [
    {
     "name": "stdout",
     "output_type": "stream",
     "text": [
      "Training on task 0...\n",
      "Testing on task 0...\n",
      "Accuracy on task 0: 99.91%\n",
      "Accuracy on task 1: 0.00%\n",
      "Accuracy on task 2: 0.00%\n",
      "Accuracy on task 3: 0.00%\n",
      "Accuracy on task 4: 0.00%\n",
      "Average Accuracy: 19.98%\n",
      "Training on task 1...\n",
      "Testing on task 1...\n",
      "Accuracy on task 0: 0.00%\n",
      "Accuracy on task 1: 99.56%\n",
      "Accuracy on task 2: 0.00%\n",
      "Accuracy on task 3: 0.00%\n",
      "Accuracy on task 4: 0.00%\n",
      "Average Accuracy: 19.91%\n",
      "Training on task 2...\n",
      "Testing on task 2...\n",
      "Accuracy on task 0: 0.00%\n",
      "Accuracy on task 1: 0.00%\n",
      "Accuracy on task 2: 99.68%\n",
      "Accuracy on task 3: 0.00%\n",
      "Accuracy on task 4: 0.00%\n",
      "Average Accuracy: 19.94%\n",
      "Training on task 3...\n",
      "Testing on task 3...\n",
      "Accuracy on task 0: 0.00%\n",
      "Accuracy on task 1: 0.00%\n",
      "Accuracy on task 2: 0.00%\n",
      "Accuracy on task 3: 99.75%\n",
      "Accuracy on task 4: 0.00%\n",
      "Average Accuracy: 19.95%\n",
      "Training on task 4...\n",
      "Testing on task 4...\n",
      "Accuracy on task 0: 0.00%\n",
      "Accuracy on task 1: 0.00%\n",
      "Accuracy on task 2: 0.00%\n",
      "Accuracy on task 3: 0.00%\n",
      "Accuracy on task 4: 98.79%\n",
      "Average Accuracy: 19.76%\n"
     ]
    }
   ],
   "source": [
    "\n",
    "model=network_mnist(256,128)\n",
    "#print(model)\n",
    "device = torch.device(\"cuda\" if torch.cuda.is_available() else \"cpu\")\n",
    "model.to(device)\n",
    "\n",
    "criterion = nn.CrossEntropyLoss()\n",
    "optimizer = optim.Adam(model.parameters(), lr=0.001)\n",
    "epochs=5\n",
    "\n",
    "acc_lists=[]\n",
    "for task in range(5):\n",
    "    print(f\"Training on task {task}...\")\n",
    "    naive_train(model,task, epochs,criterion=criterion,optimizer=optimizer,device=device)\n",
    "    print(f\"Testing on task {task}...\")\n",
    "    #test_taskwise(model,task,device)\n",
    "    acc,acc_list=test(model,device)\n",
    "    acc_lists.append(acc_list)\n",
    "\n"
   ]
  }
 ],
 "metadata": {
  "kernelspec": {
   "display_name": "base",
   "language": "python",
   "name": "python3"
  },
  "language_info": {
   "codemirror_mode": {
    "name": "ipython",
    "version": 3
   },
   "file_extension": ".py",
   "mimetype": "text/x-python",
   "name": "python",
   "nbconvert_exporter": "python",
   "pygments_lexer": "ipython3",
   "version": "3.13.0"
  }
 },
 "nbformat": 4,
 "nbformat_minor": 5
}
